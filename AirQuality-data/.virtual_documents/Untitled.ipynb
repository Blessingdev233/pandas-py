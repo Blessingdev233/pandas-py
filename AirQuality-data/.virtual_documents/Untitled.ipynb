import pandas as pd
import matplotlib.pyplot as plt


air_quality_df = pd.read_csv("air_quality_no2.csv", index_col=0, parse_dates=True)


air_quality_df.head()


air_quality_df.shape


air_quality_df.plot()


paris = air_quality_df["station_paris"]
paris.plot()


antwerp = air_quality_df["station_antwerp"]
antwerp.plot()


london = air_quality_df["station_london"]
london.plot()



